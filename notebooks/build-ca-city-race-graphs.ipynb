{
 "cells": [
  {
   "cell_type": "code",
   "execution_count": 13,
   "id": "5644ded4",
   "metadata": {},
   "outputs": [],
   "source": [
    "import pandas as pd\n",
    "import plotly.express as px\n",
    "\n",
    "from ddeserts.annotate import add_dvap_columns, add_has_charter_column\n",
    "from ddeserts.load import load_cvap_data, load_charter_cities\n",
    "\n",
    "from pandas.api.types import CategoricalDtype\n",
    "\n",
    "import plotly.graph_objects as go\n",
    "from plotly.subplots import make_subplots"
   ]
  },
  {
   "cell_type": "code",
   "execution_count": 2,
   "id": "6e1fbf4d",
   "metadata": {},
   "outputs": [],
   "source": [
    "# read in list of charter cities\n",
    "charter_cities = load_charter_cities()"
   ]
  },
  {
   "cell_type": "code",
   "execution_count": 3,
   "id": "95e91abb",
   "metadata": {},
   "outputs": [],
   "source": [
    "# load the data\n",
    "pre_filter = lambda line: 'California' in line\n",
    "filter = lambda row: (row['state'] == 'California' and \n",
    "                      row['geotype'] != 'cdp' and\n",
    "                      row['lnnumber'] >= 3)\n",
    "\n",
    "df = load_cvap_data('Place', pre_filter=pre_filter, filter=filter)"
   ]
  },
  {
   "cell_type": "code",
   "execution_count": 4,
   "id": "d664bdb4",
   "metadata": {},
   "outputs": [],
   "source": [
    "# add race category\n",
    "cats = df[df['name'] == 'Adelanto']['lntitle']\n",
    "race_cat_type = CategoricalDtype(cats, ordered=True)\n",
    "df['lntitle'] = df['lntitle'].astype(race_cat_type)"
   ]
  },
  {
   "cell_type": "code",
   "execution_count": 9,
   "id": "cc63ad84",
   "metadata": {},
   "outputs": [],
   "source": [
    "# add DVAP columns\n",
    "add_dvap_columns(df)\n",
    "pass"
   ]
  },
  {
   "cell_type": "code",
   "execution_count": 11,
   "id": "ec73bf40",
   "metadata": {},
   "outputs": [
    {
     "data": {
      "text/html": [
       "<div>\n",
       "<style scoped>\n",
       "    .dataframe tbody tr th:only-of-type {\n",
       "        vertical-align: middle;\n",
       "    }\n",
       "\n",
       "    .dataframe tbody tr th {\n",
       "        vertical-align: top;\n",
       "    }\n",
       "\n",
       "    .dataframe thead th {\n",
       "        text-align: right;\n",
       "    }\n",
       "</style>\n",
       "<table border=\"1\" class=\"dataframe\">\n",
       "  <thead>\n",
       "    <tr style=\"text-align: right;\">\n",
       "      <th></th>\n",
       "      <th></th>\n",
       "      <th>geoname</th>\n",
       "      <th>lntitle</th>\n",
       "      <th>geoid</th>\n",
       "      <th>lnnumber</th>\n",
       "      <th>tot_est</th>\n",
       "      <th>tot_moe</th>\n",
       "      <th>adu_est</th>\n",
       "      <th>adu_moe</th>\n",
       "      <th>cit_est</th>\n",
       "      <th>cit_moe</th>\n",
       "      <th>cvap_est</th>\n",
       "      <th>cvap_moe</th>\n",
       "      <th>state</th>\n",
       "      <th>name</th>\n",
       "      <th>geotype</th>\n",
       "      <th>dvap_est</th>\n",
       "      <th>dvap_moe</th>\n",
       "      <th>dvap_pct</th>\n",
       "      <th>dvap_pct_moe</th>\n",
       "    </tr>\n",
       "    <tr>\n",
       "      <th>table</th>\n",
       "      <th>line</th>\n",
       "      <th></th>\n",
       "      <th></th>\n",
       "      <th></th>\n",
       "      <th></th>\n",
       "      <th></th>\n",
       "      <th></th>\n",
       "      <th></th>\n",
       "      <th></th>\n",
       "      <th></th>\n",
       "      <th></th>\n",
       "      <th></th>\n",
       "      <th></th>\n",
       "      <th></th>\n",
       "      <th></th>\n",
       "      <th></th>\n",
       "      <th></th>\n",
       "      <th></th>\n",
       "      <th></th>\n",
       "      <th></th>\n",
       "    </tr>\n",
       "  </thead>\n",
       "  <tbody>\n",
       "    <tr>\n",
       "      <th rowspan=\"11\" valign=\"top\">Place</th>\n",
       "      <th>39744</th>\n",
       "      <td>Richmond city, California</td>\n",
       "      <td>American Indian or Alaska Native Alone</td>\n",
       "      <td>16000US0660620</td>\n",
       "      <td>3</td>\n",
       "      <td>325</td>\n",
       "      <td>145</td>\n",
       "      <td>310</td>\n",
       "      <td>144</td>\n",
       "      <td>325</td>\n",
       "      <td>145</td>\n",
       "      <td>310</td>\n",
       "      <td>144</td>\n",
       "      <td>California</td>\n",
       "      <td>Richmond</td>\n",
       "      <td>city</td>\n",
       "      <td>0</td>\n",
       "      <td>204</td>\n",
       "      <td>0.000000</td>\n",
       "      <td>1.228916</td>\n",
       "    </tr>\n",
       "    <tr>\n",
       "      <th>39745</th>\n",
       "      <td>Richmond city, California</td>\n",
       "      <td>Asian Alone</td>\n",
       "      <td>16000US0660620</td>\n",
       "      <td>4</td>\n",
       "      <td>16920</td>\n",
       "      <td>1477</td>\n",
       "      <td>14415</td>\n",
       "      <td>1190</td>\n",
       "      <td>13375</td>\n",
       "      <td>1182</td>\n",
       "      <td>11030</td>\n",
       "      <td>932</td>\n",
       "      <td>California</td>\n",
       "      <td>Richmond</td>\n",
       "      <td>city</td>\n",
       "      <td>3385</td>\n",
       "      <td>1512</td>\n",
       "      <td>0.234825</td>\n",
       "      <td>0.135459</td>\n",
       "    </tr>\n",
       "    <tr>\n",
       "      <th>39746</th>\n",
       "      <td>Richmond city, California</td>\n",
       "      <td>Black or African American Alone</td>\n",
       "      <td>16000US0660620</td>\n",
       "      <td>5</td>\n",
       "      <td>21670</td>\n",
       "      <td>1240</td>\n",
       "      <td>18500</td>\n",
       "      <td>978</td>\n",
       "      <td>20560</td>\n",
       "      <td>1085</td>\n",
       "      <td>17640</td>\n",
       "      <td>890</td>\n",
       "      <td>California</td>\n",
       "      <td>Richmond</td>\n",
       "      <td>city</td>\n",
       "      <td>860</td>\n",
       "      <td>1323</td>\n",
       "      <td>0.046486</td>\n",
       "      <td>0.078100</td>\n",
       "    </tr>\n",
       "    <tr>\n",
       "      <th>39747</th>\n",
       "      <td>Richmond city, California</td>\n",
       "      <td>Native Hawaiian or Other Pacific Islander Alone</td>\n",
       "      <td>16000US0660620</td>\n",
       "      <td>6</td>\n",
       "      <td>355</td>\n",
       "      <td>263</td>\n",
       "      <td>230</td>\n",
       "      <td>143</td>\n",
       "      <td>325</td>\n",
       "      <td>256</td>\n",
       "      <td>200</td>\n",
       "      <td>122</td>\n",
       "      <td>California</td>\n",
       "      <td>Richmond</td>\n",
       "      <td>city</td>\n",
       "      <td>30</td>\n",
       "      <td>188</td>\n",
       "      <td>0.130435</td>\n",
       "      <td>2.375312</td>\n",
       "    </tr>\n",
       "    <tr>\n",
       "      <th>39748</th>\n",
       "      <td>Richmond city, California</td>\n",
       "      <td>White Alone</td>\n",
       "      <td>16000US0660620</td>\n",
       "      <td>7</td>\n",
       "      <td>20025</td>\n",
       "      <td>1020</td>\n",
       "      <td>17815</td>\n",
       "      <td>866</td>\n",
       "      <td>18705</td>\n",
       "      <td>998</td>\n",
       "      <td>16630</td>\n",
       "      <td>888</td>\n",
       "      <td>California</td>\n",
       "      <td>Richmond</td>\n",
       "      <td>city</td>\n",
       "      <td>1185</td>\n",
       "      <td>1241</td>\n",
       "      <td>0.066517</td>\n",
       "      <td>0.076618</td>\n",
       "    </tr>\n",
       "    <tr>\n",
       "      <th>39749</th>\n",
       "      <td>Richmond city, California</td>\n",
       "      <td>American Indian or Alaska Native and White</td>\n",
       "      <td>16000US0660620</td>\n",
       "      <td>8</td>\n",
       "      <td>360</td>\n",
       "      <td>148</td>\n",
       "      <td>300</td>\n",
       "      <td>120</td>\n",
       "      <td>360</td>\n",
       "      <td>148</td>\n",
       "      <td>300</td>\n",
       "      <td>120</td>\n",
       "      <td>California</td>\n",
       "      <td>Richmond</td>\n",
       "      <td>city</td>\n",
       "      <td>0</td>\n",
       "      <td>170</td>\n",
       "      <td>0.000000</td>\n",
       "      <td>0.944444</td>\n",
       "    </tr>\n",
       "    <tr>\n",
       "      <th>39750</th>\n",
       "      <td>Richmond city, California</td>\n",
       "      <td>Asian and White</td>\n",
       "      <td>16000US0660620</td>\n",
       "      <td>9</td>\n",
       "      <td>805</td>\n",
       "      <td>235</td>\n",
       "      <td>390</td>\n",
       "      <td>110</td>\n",
       "      <td>790</td>\n",
       "      <td>232</td>\n",
       "      <td>375</td>\n",
       "      <td>112</td>\n",
       "      <td>California</td>\n",
       "      <td>Richmond</td>\n",
       "      <td>city</td>\n",
       "      <td>15</td>\n",
       "      <td>157</td>\n",
       "      <td>0.038462</td>\n",
       "      <td>0.575824</td>\n",
       "    </tr>\n",
       "    <tr>\n",
       "      <th>39751</th>\n",
       "      <td>Richmond city, California</td>\n",
       "      <td>Black or African American and White</td>\n",
       "      <td>16000US0660620</td>\n",
       "      <td>10</td>\n",
       "      <td>1300</td>\n",
       "      <td>440</td>\n",
       "      <td>830</td>\n",
       "      <td>257</td>\n",
       "      <td>1270</td>\n",
       "      <td>440</td>\n",
       "      <td>800</td>\n",
       "      <td>258</td>\n",
       "      <td>California</td>\n",
       "      <td>Richmond</td>\n",
       "      <td>city</td>\n",
       "      <td>30</td>\n",
       "      <td>365</td>\n",
       "      <td>0.036145</td>\n",
       "      <td>0.653210</td>\n",
       "    </tr>\n",
       "    <tr>\n",
       "      <th>39752</th>\n",
       "      <td>Richmond city, California</td>\n",
       "      <td>American Indian or Alaska Native and Black or ...</td>\n",
       "      <td>16000US0660620</td>\n",
       "      <td>11</td>\n",
       "      <td>480</td>\n",
       "      <td>217</td>\n",
       "      <td>480</td>\n",
       "      <td>217</td>\n",
       "      <td>480</td>\n",
       "      <td>217</td>\n",
       "      <td>480</td>\n",
       "      <td>217</td>\n",
       "      <td>California</td>\n",
       "      <td>Richmond</td>\n",
       "      <td>city</td>\n",
       "      <td>0</td>\n",
       "      <td>307</td>\n",
       "      <td>0.000000</td>\n",
       "      <td>1.167300</td>\n",
       "    </tr>\n",
       "    <tr>\n",
       "      <th>39753</th>\n",
       "      <td>Richmond city, California</td>\n",
       "      <td>Remainder of Two or More Race Responses</td>\n",
       "      <td>16000US0660620</td>\n",
       "      <td>12</td>\n",
       "      <td>980</td>\n",
       "      <td>323</td>\n",
       "      <td>705</td>\n",
       "      <td>228</td>\n",
       "      <td>940</td>\n",
       "      <td>317</td>\n",
       "      <td>665</td>\n",
       "      <td>218</td>\n",
       "      <td>California</td>\n",
       "      <td>Richmond</td>\n",
       "      <td>city</td>\n",
       "      <td>40</td>\n",
       "      <td>316</td>\n",
       "      <td>0.056738</td>\n",
       "      <td>0.689594</td>\n",
       "    </tr>\n",
       "    <tr>\n",
       "      <th>39754</th>\n",
       "      <td>Richmond city, California</td>\n",
       "      <td>Hispanic or Latino</td>\n",
       "      <td>16000US0660620</td>\n",
       "      <td>13</td>\n",
       "      <td>46665</td>\n",
       "      <td>1618</td>\n",
       "      <td>31955</td>\n",
       "      <td>1207</td>\n",
       "      <td>30630</td>\n",
       "      <td>1394</td>\n",
       "      <td>16880</td>\n",
       "      <td>1120</td>\n",
       "      <td>California</td>\n",
       "      <td>Richmond</td>\n",
       "      <td>city</td>\n",
       "      <td>15075</td>\n",
       "      <td>1647</td>\n",
       "      <td>0.471757</td>\n",
       "      <td>0.072083</td>\n",
       "    </tr>\n",
       "  </tbody>\n",
       "</table>\n",
       "</div>"
      ],
      "text/plain": [
       "                               geoname  \\\n",
       "table line                               \n",
       "Place 39744  Richmond city, California   \n",
       "      39745  Richmond city, California   \n",
       "      39746  Richmond city, California   \n",
       "      39747  Richmond city, California   \n",
       "      39748  Richmond city, California   \n",
       "      39749  Richmond city, California   \n",
       "      39750  Richmond city, California   \n",
       "      39751  Richmond city, California   \n",
       "      39752  Richmond city, California   \n",
       "      39753  Richmond city, California   \n",
       "      39754  Richmond city, California   \n",
       "\n",
       "                                                       lntitle  \\\n",
       "table line                                                       \n",
       "Place 39744             American Indian or Alaska Native Alone   \n",
       "      39745                                        Asian Alone   \n",
       "      39746                    Black or African American Alone   \n",
       "      39747    Native Hawaiian or Other Pacific Islander Alone   \n",
       "      39748                                        White Alone   \n",
       "      39749         American Indian or Alaska Native and White   \n",
       "      39750                                    Asian and White   \n",
       "      39751                Black or African American and White   \n",
       "      39752  American Indian or Alaska Native and Black or ...   \n",
       "      39753            Remainder of Two or More Race Responses   \n",
       "      39754                                 Hispanic or Latino   \n",
       "\n",
       "                      geoid  lnnumber  tot_est  tot_moe  adu_est  adu_moe  \\\n",
       "table line                                                                  \n",
       "Place 39744  16000US0660620         3      325      145      310      144   \n",
       "      39745  16000US0660620         4    16920     1477    14415     1190   \n",
       "      39746  16000US0660620         5    21670     1240    18500      978   \n",
       "      39747  16000US0660620         6      355      263      230      143   \n",
       "      39748  16000US0660620         7    20025     1020    17815      866   \n",
       "      39749  16000US0660620         8      360      148      300      120   \n",
       "      39750  16000US0660620         9      805      235      390      110   \n",
       "      39751  16000US0660620        10     1300      440      830      257   \n",
       "      39752  16000US0660620        11      480      217      480      217   \n",
       "      39753  16000US0660620        12      980      323      705      228   \n",
       "      39754  16000US0660620        13    46665     1618    31955     1207   \n",
       "\n",
       "             cit_est  cit_moe  cvap_est  cvap_moe       state      name  \\\n",
       "table line                                                                \n",
       "Place 39744      325      145       310       144  California  Richmond   \n",
       "      39745    13375     1182     11030       932  California  Richmond   \n",
       "      39746    20560     1085     17640       890  California  Richmond   \n",
       "      39747      325      256       200       122  California  Richmond   \n",
       "      39748    18705      998     16630       888  California  Richmond   \n",
       "      39749      360      148       300       120  California  Richmond   \n",
       "      39750      790      232       375       112  California  Richmond   \n",
       "      39751     1270      440       800       258  California  Richmond   \n",
       "      39752      480      217       480       217  California  Richmond   \n",
       "      39753      940      317       665       218  California  Richmond   \n",
       "      39754    30630     1394     16880      1120  California  Richmond   \n",
       "\n",
       "            geotype  dvap_est  dvap_moe  dvap_pct  dvap_pct_moe  \n",
       "table line                                                       \n",
       "Place 39744    city         0       204  0.000000      1.228916  \n",
       "      39745    city      3385      1512  0.234825      0.135459  \n",
       "      39746    city       860      1323  0.046486      0.078100  \n",
       "      39747    city        30       188  0.130435      2.375312  \n",
       "      39748    city      1185      1241  0.066517      0.076618  \n",
       "      39749    city         0       170  0.000000      0.944444  \n",
       "      39750    city        15       157  0.038462      0.575824  \n",
       "      39751    city        30       365  0.036145      0.653210  \n",
       "      39752    city         0       307  0.000000      1.167300  \n",
       "      39753    city        40       316  0.056738      0.689594  \n",
       "      39754    city     15075      1647  0.471757      0.072083  "
      ]
     },
     "execution_count": 11,
     "metadata": {},
     "output_type": "execute_result"
    }
   ],
   "source": [
    "richmond = df.loc[df['name'] == 'Richmond']\n",
    "richmond"
   ]
  },
  {
   "cell_type": "code",
   "execution_count": 26,
   "id": "915014ec",
   "metadata": {},
   "outputs": [
    {
     "data": {
      "application/vnd.plotly.v1+json": {
       "config": {
        "plotlyServerURL": "https://plot.ly"
       },
       "data": [
        {
         "direction": "clockwise",
         "domain": {
          "x": [
           0,
           1
          ],
          "y": [
           0,
           0.9
          ]
         },
         "hole": 0.4,
         "labels": [
          "American Indian or Alaska Native Alone",
          "Asian Alone",
          "Black or African American Alone",
          "Native Hawaiian or Other Pacific Islander Alone",
          "White Alone",
          "American Indian or Alaska Native and White",
          "Asian and White",
          "Black or African American and White",
          "American Indian or Alaska Native and Black or African American",
          "Remainder of Two or More Race Responses",
          "Hispanic or Latino"
         ],
         "marker": {
          "line": {
           "color": "#ffffff",
           "width": 2
          }
         },
         "name": "Allowed to Vote",
         "scalegroup": "one",
         "sort": false,
         "texttemplate": "<b>%{percent:.0%}</b>",
         "type": "pie",
         "values": [
          310,
          11030,
          17640,
          200,
          16630,
          300,
          375,
          800,
          480,
          665,
          16880
         ]
        },
        {
         "direction": "clockwise",
         "domain": {
          "x": [
           0,
           1
          ],
          "y": [
           0,
           0.9
          ]
         },
         "hole": 0.4,
         "labels": [
          "American Indian or Alaska Native Alone",
          "Asian Alone",
          "Black or African American Alone",
          "Native Hawaiian or Other Pacific Islander Alone",
          "White Alone",
          "American Indian or Alaska Native and White",
          "Asian and White",
          "Black or African American and White",
          "American Indian or Alaska Native and Black or African American",
          "Remainder of Two or More Race Responses",
          "Hispanic or Latino"
         ],
         "marker": {
          "line": {
           "color": "#ffffff",
           "width": 2
          }
         },
         "name": "Disenfranchised",
         "scalegroup": "one",
         "sort": false,
         "texttemplate": "<b>%{percent:.0%}</b>",
         "type": "pie",
         "values": [
          0,
          3385,
          860,
          30,
          1185,
          0,
          15,
          30,
          0,
          40,
          15075
         ]
        }
       ],
       "layout": {
        "annotations": [
         {
          "font": {
           "size": 18
          },
          "showarrow": false,
          "text": "Allowed to Vote",
          "x": 0.5,
          "xanchor": "center",
          "xref": "paper",
          "y": 0.95,
          "yanchor": "bottom",
          "yref": "paper"
         },
         {
          "font": {
           "size": 18
          },
          "showarrow": false,
          "text": "Disenfranchised",
          "x": 0.5,
          "xanchor": "center",
          "xref": "paper",
          "y": 0.325,
          "yanchor": "bottom",
          "yref": "paper"
         }
        ],
        "font": {
         "family": "Raleway"
        },
        "legend": {
         "traceorder": "normal"
        },
        "template": {
         "data": {
          "bar": [
           {
            "error_x": {
             "color": "#2a3f5f"
            },
            "error_y": {
             "color": "#2a3f5f"
            },
            "marker": {
             "line": {
              "color": "#E5ECF6",
              "width": 0.5
             },
             "pattern": {
              "fillmode": "overlay",
              "size": 10,
              "solidity": 0.2
             }
            },
            "type": "bar"
           }
          ],
          "barpolar": [
           {
            "marker": {
             "line": {
              "color": "#E5ECF6",
              "width": 0.5
             },
             "pattern": {
              "fillmode": "overlay",
              "size": 10,
              "solidity": 0.2
             }
            },
            "type": "barpolar"
           }
          ],
          "carpet": [
           {
            "aaxis": {
             "endlinecolor": "#2a3f5f",
             "gridcolor": "white",
             "linecolor": "white",
             "minorgridcolor": "white",
             "startlinecolor": "#2a3f5f"
            },
            "baxis": {
             "endlinecolor": "#2a3f5f",
             "gridcolor": "white",
             "linecolor": "white",
             "minorgridcolor": "white",
             "startlinecolor": "#2a3f5f"
            },
            "type": "carpet"
           }
          ],
          "choropleth": [
           {
            "colorbar": {
             "outlinewidth": 0,
             "ticks": ""
            },
            "type": "choropleth"
           }
          ],
          "contour": [
           {
            "colorbar": {
             "outlinewidth": 0,
             "ticks": ""
            },
            "colorscale": [
             [
              0,
              "#0d0887"
             ],
             [
              0.1111111111111111,
              "#46039f"
             ],
             [
              0.2222222222222222,
              "#7201a8"
             ],
             [
              0.3333333333333333,
              "#9c179e"
             ],
             [
              0.4444444444444444,
              "#bd3786"
             ],
             [
              0.5555555555555556,
              "#d8576b"
             ],
             [
              0.6666666666666666,
              "#ed7953"
             ],
             [
              0.7777777777777778,
              "#fb9f3a"
             ],
             [
              0.8888888888888888,
              "#fdca26"
             ],
             [
              1,
              "#f0f921"
             ]
            ],
            "type": "contour"
           }
          ],
          "contourcarpet": [
           {
            "colorbar": {
             "outlinewidth": 0,
             "ticks": ""
            },
            "type": "contourcarpet"
           }
          ],
          "heatmap": [
           {
            "colorbar": {
             "outlinewidth": 0,
             "ticks": ""
            },
            "colorscale": [
             [
              0,
              "#0d0887"
             ],
             [
              0.1111111111111111,
              "#46039f"
             ],
             [
              0.2222222222222222,
              "#7201a8"
             ],
             [
              0.3333333333333333,
              "#9c179e"
             ],
             [
              0.4444444444444444,
              "#bd3786"
             ],
             [
              0.5555555555555556,
              "#d8576b"
             ],
             [
              0.6666666666666666,
              "#ed7953"
             ],
             [
              0.7777777777777778,
              "#fb9f3a"
             ],
             [
              0.8888888888888888,
              "#fdca26"
             ],
             [
              1,
              "#f0f921"
             ]
            ],
            "type": "heatmap"
           }
          ],
          "heatmapgl": [
           {
            "colorbar": {
             "outlinewidth": 0,
             "ticks": ""
            },
            "colorscale": [
             [
              0,
              "#0d0887"
             ],
             [
              0.1111111111111111,
              "#46039f"
             ],
             [
              0.2222222222222222,
              "#7201a8"
             ],
             [
              0.3333333333333333,
              "#9c179e"
             ],
             [
              0.4444444444444444,
              "#bd3786"
             ],
             [
              0.5555555555555556,
              "#d8576b"
             ],
             [
              0.6666666666666666,
              "#ed7953"
             ],
             [
              0.7777777777777778,
              "#fb9f3a"
             ],
             [
              0.8888888888888888,
              "#fdca26"
             ],
             [
              1,
              "#f0f921"
             ]
            ],
            "type": "heatmapgl"
           }
          ],
          "histogram": [
           {
            "marker": {
             "pattern": {
              "fillmode": "overlay",
              "size": 10,
              "solidity": 0.2
             }
            },
            "type": "histogram"
           }
          ],
          "histogram2d": [
           {
            "colorbar": {
             "outlinewidth": 0,
             "ticks": ""
            },
            "colorscale": [
             [
              0,
              "#0d0887"
             ],
             [
              0.1111111111111111,
              "#46039f"
             ],
             [
              0.2222222222222222,
              "#7201a8"
             ],
             [
              0.3333333333333333,
              "#9c179e"
             ],
             [
              0.4444444444444444,
              "#bd3786"
             ],
             [
              0.5555555555555556,
              "#d8576b"
             ],
             [
              0.6666666666666666,
              "#ed7953"
             ],
             [
              0.7777777777777778,
              "#fb9f3a"
             ],
             [
              0.8888888888888888,
              "#fdca26"
             ],
             [
              1,
              "#f0f921"
             ]
            ],
            "type": "histogram2d"
           }
          ],
          "histogram2dcontour": [
           {
            "colorbar": {
             "outlinewidth": 0,
             "ticks": ""
            },
            "colorscale": [
             [
              0,
              "#0d0887"
             ],
             [
              0.1111111111111111,
              "#46039f"
             ],
             [
              0.2222222222222222,
              "#7201a8"
             ],
             [
              0.3333333333333333,
              "#9c179e"
             ],
             [
              0.4444444444444444,
              "#bd3786"
             ],
             [
              0.5555555555555556,
              "#d8576b"
             ],
             [
              0.6666666666666666,
              "#ed7953"
             ],
             [
              0.7777777777777778,
              "#fb9f3a"
             ],
             [
              0.8888888888888888,
              "#fdca26"
             ],
             [
              1,
              "#f0f921"
             ]
            ],
            "type": "histogram2dcontour"
           }
          ],
          "mesh3d": [
           {
            "colorbar": {
             "outlinewidth": 0,
             "ticks": ""
            },
            "type": "mesh3d"
           }
          ],
          "parcoords": [
           {
            "line": {
             "colorbar": {
              "outlinewidth": 0,
              "ticks": ""
             }
            },
            "type": "parcoords"
           }
          ],
          "pie": [
           {
            "automargin": true,
            "type": "pie"
           }
          ],
          "scatter": [
           {
            "marker": {
             "colorbar": {
              "outlinewidth": 0,
              "ticks": ""
             }
            },
            "type": "scatter"
           }
          ],
          "scatter3d": [
           {
            "line": {
             "colorbar": {
              "outlinewidth": 0,
              "ticks": ""
             }
            },
            "marker": {
             "colorbar": {
              "outlinewidth": 0,
              "ticks": ""
             }
            },
            "type": "scatter3d"
           }
          ],
          "scattercarpet": [
           {
            "marker": {
             "colorbar": {
              "outlinewidth": 0,
              "ticks": ""
             }
            },
            "type": "scattercarpet"
           }
          ],
          "scattergeo": [
           {
            "marker": {
             "colorbar": {
              "outlinewidth": 0,
              "ticks": ""
             }
            },
            "type": "scattergeo"
           }
          ],
          "scattergl": [
           {
            "marker": {
             "colorbar": {
              "outlinewidth": 0,
              "ticks": ""
             }
            },
            "type": "scattergl"
           }
          ],
          "scattermapbox": [
           {
            "marker": {
             "colorbar": {
              "outlinewidth": 0,
              "ticks": ""
             }
            },
            "type": "scattermapbox"
           }
          ],
          "scatterpolar": [
           {
            "marker": {
             "colorbar": {
              "outlinewidth": 0,
              "ticks": ""
             }
            },
            "type": "scatterpolar"
           }
          ],
          "scatterpolargl": [
           {
            "marker": {
             "colorbar": {
              "outlinewidth": 0,
              "ticks": ""
             }
            },
            "type": "scatterpolargl"
           }
          ],
          "scatterternary": [
           {
            "marker": {
             "colorbar": {
              "outlinewidth": 0,
              "ticks": ""
             }
            },
            "type": "scatterternary"
           }
          ],
          "surface": [
           {
            "colorbar": {
             "outlinewidth": 0,
             "ticks": ""
            },
            "colorscale": [
             [
              0,
              "#0d0887"
             ],
             [
              0.1111111111111111,
              "#46039f"
             ],
             [
              0.2222222222222222,
              "#7201a8"
             ],
             [
              0.3333333333333333,
              "#9c179e"
             ],
             [
              0.4444444444444444,
              "#bd3786"
             ],
             [
              0.5555555555555556,
              "#d8576b"
             ],
             [
              0.6666666666666666,
              "#ed7953"
             ],
             [
              0.7777777777777778,
              "#fb9f3a"
             ],
             [
              0.8888888888888888,
              "#fdca26"
             ],
             [
              1,
              "#f0f921"
             ]
            ],
            "type": "surface"
           }
          ],
          "table": [
           {
            "cells": {
             "fill": {
              "color": "#EBF0F8"
             },
             "line": {
              "color": "white"
             }
            },
            "header": {
             "fill": {
              "color": "#C8D4E3"
             },
             "line": {
              "color": "white"
             }
            },
            "type": "table"
           }
          ]
         },
         "layout": {
          "annotationdefaults": {
           "arrowcolor": "#2a3f5f",
           "arrowhead": 0,
           "arrowwidth": 1
          },
          "autotypenumbers": "strict",
          "coloraxis": {
           "colorbar": {
            "outlinewidth": 0,
            "ticks": ""
           }
          },
          "colorscale": {
           "diverging": [
            [
             0,
             "#8e0152"
            ],
            [
             0.1,
             "#c51b7d"
            ],
            [
             0.2,
             "#de77ae"
            ],
            [
             0.3,
             "#f1b6da"
            ],
            [
             0.4,
             "#fde0ef"
            ],
            [
             0.5,
             "#f7f7f7"
            ],
            [
             0.6,
             "#e6f5d0"
            ],
            [
             0.7,
             "#b8e186"
            ],
            [
             0.8,
             "#7fbc41"
            ],
            [
             0.9,
             "#4d9221"
            ],
            [
             1,
             "#276419"
            ]
           ],
           "sequential": [
            [
             0,
             "#0d0887"
            ],
            [
             0.1111111111111111,
             "#46039f"
            ],
            [
             0.2222222222222222,
             "#7201a8"
            ],
            [
             0.3333333333333333,
             "#9c179e"
            ],
            [
             0.4444444444444444,
             "#bd3786"
            ],
            [
             0.5555555555555556,
             "#d8576b"
            ],
            [
             0.6666666666666666,
             "#ed7953"
            ],
            [
             0.7777777777777778,
             "#fb9f3a"
            ],
            [
             0.8888888888888888,
             "#fdca26"
            ],
            [
             1,
             "#f0f921"
            ]
           ],
           "sequentialminus": [
            [
             0,
             "#0d0887"
            ],
            [
             0.1111111111111111,
             "#46039f"
            ],
            [
             0.2222222222222222,
             "#7201a8"
            ],
            [
             0.3333333333333333,
             "#9c179e"
            ],
            [
             0.4444444444444444,
             "#bd3786"
            ],
            [
             0.5555555555555556,
             "#d8576b"
            ],
            [
             0.6666666666666666,
             "#ed7953"
            ],
            [
             0.7777777777777778,
             "#fb9f3a"
            ],
            [
             0.8888888888888888,
             "#fdca26"
            ],
            [
             1,
             "#f0f921"
            ]
           ]
          },
          "colorway": [
           "#636efa",
           "#EF553B",
           "#00cc96",
           "#ab63fa",
           "#FFA15A",
           "#19d3f3",
           "#FF6692",
           "#B6E880",
           "#FF97FF",
           "#FECB52"
          ],
          "font": {
           "color": "#2a3f5f"
          },
          "geo": {
           "bgcolor": "white",
           "lakecolor": "white",
           "landcolor": "#E5ECF6",
           "showlakes": true,
           "showland": true,
           "subunitcolor": "white"
          },
          "hoverlabel": {
           "align": "left"
          },
          "hovermode": "closest",
          "mapbox": {
           "style": "light"
          },
          "paper_bgcolor": "white",
          "plot_bgcolor": "#E5ECF6",
          "polar": {
           "angularaxis": {
            "gridcolor": "white",
            "linecolor": "white",
            "ticks": ""
           },
           "bgcolor": "#E5ECF6",
           "radialaxis": {
            "gridcolor": "white",
            "linecolor": "white",
            "ticks": ""
           }
          },
          "scene": {
           "xaxis": {
            "backgroundcolor": "#E5ECF6",
            "gridcolor": "white",
            "gridwidth": 2,
            "linecolor": "white",
            "showbackground": true,
            "ticks": "",
            "zerolinecolor": "white"
           },
           "yaxis": {
            "backgroundcolor": "#E5ECF6",
            "gridcolor": "white",
            "gridwidth": 2,
            "linecolor": "white",
            "showbackground": true,
            "ticks": "",
            "zerolinecolor": "white"
           },
           "zaxis": {
            "backgroundcolor": "#E5ECF6",
            "gridcolor": "white",
            "gridwidth": 2,
            "linecolor": "white",
            "showbackground": true,
            "ticks": "",
            "zerolinecolor": "white"
           }
          },
          "shapedefaults": {
           "line": {
            "color": "#2a3f5f"
           }
          },
          "ternary": {
           "aaxis": {
            "gridcolor": "white",
            "linecolor": "white",
            "ticks": ""
           },
           "baxis": {
            "gridcolor": "white",
            "linecolor": "white",
            "ticks": ""
           },
           "bgcolor": "#E5ECF6",
           "caxis": {
            "gridcolor": "white",
            "linecolor": "white",
            "ticks": ""
           }
          },
          "title": {
           "x": 0.05
          },
          "xaxis": {
           "automargin": true,
           "gridcolor": "white",
           "linecolor": "white",
           "ticks": "",
           "title": {
            "standoff": 15
           },
           "zerolinecolor": "white",
           "zerolinewidth": 2
          },
          "yaxis": {
           "automargin": true,
           "gridcolor": "white",
           "linecolor": "white",
           "ticks": "",
           "title": {
            "standoff": 15
           },
           "zerolinecolor": "white",
           "zerolinewidth": 2
          }
         }
        },
        "title": {
         "font": {
          "size": 20
         },
         "text": "Adult Residents by Race/Ethnicity<br><sup>Richmond, CA</sup>",
         "x": 0.5
        }
       }
      },
      "text/html": [
       "<div>                            <div id=\"47ee5b37-54ad-4d27-a5c5-2c1a3ae88d3a\" class=\"plotly-graph-div\" style=\"height:525px; width:100%;\"></div>            <script type=\"text/javascript\">                require([\"plotly\"], function(Plotly) {                    window.PLOTLYENV=window.PLOTLYENV || {};                                    if (document.getElementById(\"47ee5b37-54ad-4d27-a5c5-2c1a3ae88d3a\")) {                    Plotly.newPlot(                        \"47ee5b37-54ad-4d27-a5c5-2c1a3ae88d3a\",                        [{\"direction\":\"clockwise\",\"domain\":{\"x\":[0.0,1.0],\"y\":[0.0,0.9]},\"hole\":0.4,\"labels\":[\"American Indian or Alaska Native Alone\",\"Asian Alone\",\"Black or African American Alone\",\"Native Hawaiian or Other Pacific Islander Alone\",\"White Alone\",\"American Indian or Alaska Native and White\",\"Asian and White\",\"Black or African American and White\",\"American Indian or Alaska Native and Black or African American\",\"Remainder of Two or More Race Responses\",\"Hispanic or Latino\"],\"marker\":{\"line\":{\"color\":\"#ffffff\",\"width\":2}},\"name\":\"Allowed to Vote\",\"scalegroup\":\"one\",\"sort\":false,\"texttemplate\":\"<b>%{percent:.0%}</b>\",\"type\":\"pie\",\"values\":[310,11030,17640,200,16630,300,375,800,480,665,16880]},{\"direction\":\"clockwise\",\"domain\":{\"x\":[0.0,1.0],\"y\":[0.0,0.9]},\"hole\":0.4,\"labels\":[\"American Indian or Alaska Native Alone\",\"Asian Alone\",\"Black or African American Alone\",\"Native Hawaiian or Other Pacific Islander Alone\",\"White Alone\",\"American Indian or Alaska Native and White\",\"Asian and White\",\"Black or African American and White\",\"American Indian or Alaska Native and Black or African American\",\"Remainder of Two or More Race Responses\",\"Hispanic or Latino\"],\"marker\":{\"line\":{\"color\":\"#ffffff\",\"width\":2}},\"name\":\"Disenfranchised\",\"scalegroup\":\"one\",\"sort\":false,\"texttemplate\":\"<b>%{percent:.0%}</b>\",\"type\":\"pie\",\"values\":[0,3385,860,30,1185,0,15,30,0,40,15075]}],                        {\"annotations\":[{\"font\":{\"size\":18},\"showarrow\":false,\"text\":\"Allowed to Vote\",\"x\":0.5,\"xanchor\":\"center\",\"xref\":\"paper\",\"y\":0.95,\"yanchor\":\"bottom\",\"yref\":\"paper\"},{\"font\":{\"size\":18},\"showarrow\":false,\"text\":\"Disenfranchised\",\"x\":0.5,\"xanchor\":\"center\",\"xref\":\"paper\",\"y\":0.325,\"yanchor\":\"bottom\",\"yref\":\"paper\"}],\"font\":{\"family\":\"Raleway\"},\"legend\":{\"traceorder\":\"normal\"},\"template\":{\"data\":{\"bar\":[{\"error_x\":{\"color\":\"#2a3f5f\"},\"error_y\":{\"color\":\"#2a3f5f\"},\"marker\":{\"line\":{\"color\":\"#E5ECF6\",\"width\":0.5},\"pattern\":{\"fillmode\":\"overlay\",\"size\":10,\"solidity\":0.2}},\"type\":\"bar\"}],\"barpolar\":[{\"marker\":{\"line\":{\"color\":\"#E5ECF6\",\"width\":0.5},\"pattern\":{\"fillmode\":\"overlay\",\"size\":10,\"solidity\":0.2}},\"type\":\"barpolar\"}],\"carpet\":[{\"aaxis\":{\"endlinecolor\":\"#2a3f5f\",\"gridcolor\":\"white\",\"linecolor\":\"white\",\"minorgridcolor\":\"white\",\"startlinecolor\":\"#2a3f5f\"},\"baxis\":{\"endlinecolor\":\"#2a3f5f\",\"gridcolor\":\"white\",\"linecolor\":\"white\",\"minorgridcolor\":\"white\",\"startlinecolor\":\"#2a3f5f\"},\"type\":\"carpet\"}],\"choropleth\":[{\"colorbar\":{\"outlinewidth\":0,\"ticks\":\"\"},\"type\":\"choropleth\"}],\"contour\":[{\"colorbar\":{\"outlinewidth\":0,\"ticks\":\"\"},\"colorscale\":[[0.0,\"#0d0887\"],[0.1111111111111111,\"#46039f\"],[0.2222222222222222,\"#7201a8\"],[0.3333333333333333,\"#9c179e\"],[0.4444444444444444,\"#bd3786\"],[0.5555555555555556,\"#d8576b\"],[0.6666666666666666,\"#ed7953\"],[0.7777777777777778,\"#fb9f3a\"],[0.8888888888888888,\"#fdca26\"],[1.0,\"#f0f921\"]],\"type\":\"contour\"}],\"contourcarpet\":[{\"colorbar\":{\"outlinewidth\":0,\"ticks\":\"\"},\"type\":\"contourcarpet\"}],\"heatmap\":[{\"colorbar\":{\"outlinewidth\":0,\"ticks\":\"\"},\"colorscale\":[[0.0,\"#0d0887\"],[0.1111111111111111,\"#46039f\"],[0.2222222222222222,\"#7201a8\"],[0.3333333333333333,\"#9c179e\"],[0.4444444444444444,\"#bd3786\"],[0.5555555555555556,\"#d8576b\"],[0.6666666666666666,\"#ed7953\"],[0.7777777777777778,\"#fb9f3a\"],[0.8888888888888888,\"#fdca26\"],[1.0,\"#f0f921\"]],\"type\":\"heatmap\"}],\"heatmapgl\":[{\"colorbar\":{\"outlinewidth\":0,\"ticks\":\"\"},\"colorscale\":[[0.0,\"#0d0887\"],[0.1111111111111111,\"#46039f\"],[0.2222222222222222,\"#7201a8\"],[0.3333333333333333,\"#9c179e\"],[0.4444444444444444,\"#bd3786\"],[0.5555555555555556,\"#d8576b\"],[0.6666666666666666,\"#ed7953\"],[0.7777777777777778,\"#fb9f3a\"],[0.8888888888888888,\"#fdca26\"],[1.0,\"#f0f921\"]],\"type\":\"heatmapgl\"}],\"histogram\":[{\"marker\":{\"pattern\":{\"fillmode\":\"overlay\",\"size\":10,\"solidity\":0.2}},\"type\":\"histogram\"}],\"histogram2d\":[{\"colorbar\":{\"outlinewidth\":0,\"ticks\":\"\"},\"colorscale\":[[0.0,\"#0d0887\"],[0.1111111111111111,\"#46039f\"],[0.2222222222222222,\"#7201a8\"],[0.3333333333333333,\"#9c179e\"],[0.4444444444444444,\"#bd3786\"],[0.5555555555555556,\"#d8576b\"],[0.6666666666666666,\"#ed7953\"],[0.7777777777777778,\"#fb9f3a\"],[0.8888888888888888,\"#fdca26\"],[1.0,\"#f0f921\"]],\"type\":\"histogram2d\"}],\"histogram2dcontour\":[{\"colorbar\":{\"outlinewidth\":0,\"ticks\":\"\"},\"colorscale\":[[0.0,\"#0d0887\"],[0.1111111111111111,\"#46039f\"],[0.2222222222222222,\"#7201a8\"],[0.3333333333333333,\"#9c179e\"],[0.4444444444444444,\"#bd3786\"],[0.5555555555555556,\"#d8576b\"],[0.6666666666666666,\"#ed7953\"],[0.7777777777777778,\"#fb9f3a\"],[0.8888888888888888,\"#fdca26\"],[1.0,\"#f0f921\"]],\"type\":\"histogram2dcontour\"}],\"mesh3d\":[{\"colorbar\":{\"outlinewidth\":0,\"ticks\":\"\"},\"type\":\"mesh3d\"}],\"parcoords\":[{\"line\":{\"colorbar\":{\"outlinewidth\":0,\"ticks\":\"\"}},\"type\":\"parcoords\"}],\"pie\":[{\"automargin\":true,\"type\":\"pie\"}],\"scatter\":[{\"marker\":{\"colorbar\":{\"outlinewidth\":0,\"ticks\":\"\"}},\"type\":\"scatter\"}],\"scatter3d\":[{\"line\":{\"colorbar\":{\"outlinewidth\":0,\"ticks\":\"\"}},\"marker\":{\"colorbar\":{\"outlinewidth\":0,\"ticks\":\"\"}},\"type\":\"scatter3d\"}],\"scattercarpet\":[{\"marker\":{\"colorbar\":{\"outlinewidth\":0,\"ticks\":\"\"}},\"type\":\"scattercarpet\"}],\"scattergeo\":[{\"marker\":{\"colorbar\":{\"outlinewidth\":0,\"ticks\":\"\"}},\"type\":\"scattergeo\"}],\"scattergl\":[{\"marker\":{\"colorbar\":{\"outlinewidth\":0,\"ticks\":\"\"}},\"type\":\"scattergl\"}],\"scattermapbox\":[{\"marker\":{\"colorbar\":{\"outlinewidth\":0,\"ticks\":\"\"}},\"type\":\"scattermapbox\"}],\"scatterpolar\":[{\"marker\":{\"colorbar\":{\"outlinewidth\":0,\"ticks\":\"\"}},\"type\":\"scatterpolar\"}],\"scatterpolargl\":[{\"marker\":{\"colorbar\":{\"outlinewidth\":0,\"ticks\":\"\"}},\"type\":\"scatterpolargl\"}],\"scatterternary\":[{\"marker\":{\"colorbar\":{\"outlinewidth\":0,\"ticks\":\"\"}},\"type\":\"scatterternary\"}],\"surface\":[{\"colorbar\":{\"outlinewidth\":0,\"ticks\":\"\"},\"colorscale\":[[0.0,\"#0d0887\"],[0.1111111111111111,\"#46039f\"],[0.2222222222222222,\"#7201a8\"],[0.3333333333333333,\"#9c179e\"],[0.4444444444444444,\"#bd3786\"],[0.5555555555555556,\"#d8576b\"],[0.6666666666666666,\"#ed7953\"],[0.7777777777777778,\"#fb9f3a\"],[0.8888888888888888,\"#fdca26\"],[1.0,\"#f0f921\"]],\"type\":\"surface\"}],\"table\":[{\"cells\":{\"fill\":{\"color\":\"#EBF0F8\"},\"line\":{\"color\":\"white\"}},\"header\":{\"fill\":{\"color\":\"#C8D4E3\"},\"line\":{\"color\":\"white\"}},\"type\":\"table\"}]},\"layout\":{\"annotationdefaults\":{\"arrowcolor\":\"#2a3f5f\",\"arrowhead\":0,\"arrowwidth\":1},\"autotypenumbers\":\"strict\",\"coloraxis\":{\"colorbar\":{\"outlinewidth\":0,\"ticks\":\"\"}},\"colorscale\":{\"diverging\":[[0,\"#8e0152\"],[0.1,\"#c51b7d\"],[0.2,\"#de77ae\"],[0.3,\"#f1b6da\"],[0.4,\"#fde0ef\"],[0.5,\"#f7f7f7\"],[0.6,\"#e6f5d0\"],[0.7,\"#b8e186\"],[0.8,\"#7fbc41\"],[0.9,\"#4d9221\"],[1,\"#276419\"]],\"sequential\":[[0.0,\"#0d0887\"],[0.1111111111111111,\"#46039f\"],[0.2222222222222222,\"#7201a8\"],[0.3333333333333333,\"#9c179e\"],[0.4444444444444444,\"#bd3786\"],[0.5555555555555556,\"#d8576b\"],[0.6666666666666666,\"#ed7953\"],[0.7777777777777778,\"#fb9f3a\"],[0.8888888888888888,\"#fdca26\"],[1.0,\"#f0f921\"]],\"sequentialminus\":[[0.0,\"#0d0887\"],[0.1111111111111111,\"#46039f\"],[0.2222222222222222,\"#7201a8\"],[0.3333333333333333,\"#9c179e\"],[0.4444444444444444,\"#bd3786\"],[0.5555555555555556,\"#d8576b\"],[0.6666666666666666,\"#ed7953\"],[0.7777777777777778,\"#fb9f3a\"],[0.8888888888888888,\"#fdca26\"],[1.0,\"#f0f921\"]]},\"colorway\":[\"#636efa\",\"#EF553B\",\"#00cc96\",\"#ab63fa\",\"#FFA15A\",\"#19d3f3\",\"#FF6692\",\"#B6E880\",\"#FF97FF\",\"#FECB52\"],\"font\":{\"color\":\"#2a3f5f\"},\"geo\":{\"bgcolor\":\"white\",\"lakecolor\":\"white\",\"landcolor\":\"#E5ECF6\",\"showlakes\":true,\"showland\":true,\"subunitcolor\":\"white\"},\"hoverlabel\":{\"align\":\"left\"},\"hovermode\":\"closest\",\"mapbox\":{\"style\":\"light\"},\"paper_bgcolor\":\"white\",\"plot_bgcolor\":\"#E5ECF6\",\"polar\":{\"angularaxis\":{\"gridcolor\":\"white\",\"linecolor\":\"white\",\"ticks\":\"\"},\"bgcolor\":\"#E5ECF6\",\"radialaxis\":{\"gridcolor\":\"white\",\"linecolor\":\"white\",\"ticks\":\"\"}},\"scene\":{\"xaxis\":{\"backgroundcolor\":\"#E5ECF6\",\"gridcolor\":\"white\",\"gridwidth\":2,\"linecolor\":\"white\",\"showbackground\":true,\"ticks\":\"\",\"zerolinecolor\":\"white\"},\"yaxis\":{\"backgroundcolor\":\"#E5ECF6\",\"gridcolor\":\"white\",\"gridwidth\":2,\"linecolor\":\"white\",\"showbackground\":true,\"ticks\":\"\",\"zerolinecolor\":\"white\"},\"zaxis\":{\"backgroundcolor\":\"#E5ECF6\",\"gridcolor\":\"white\",\"gridwidth\":2,\"linecolor\":\"white\",\"showbackground\":true,\"ticks\":\"\",\"zerolinecolor\":\"white\"}},\"shapedefaults\":{\"line\":{\"color\":\"#2a3f5f\"}},\"ternary\":{\"aaxis\":{\"gridcolor\":\"white\",\"linecolor\":\"white\",\"ticks\":\"\"},\"baxis\":{\"gridcolor\":\"white\",\"linecolor\":\"white\",\"ticks\":\"\"},\"bgcolor\":\"#E5ECF6\",\"caxis\":{\"gridcolor\":\"white\",\"linecolor\":\"white\",\"ticks\":\"\"}},\"title\":{\"x\":0.05},\"xaxis\":{\"automargin\":true,\"gridcolor\":\"white\",\"linecolor\":\"white\",\"ticks\":\"\",\"title\":{\"standoff\":15},\"zerolinecolor\":\"white\",\"zerolinewidth\":2},\"yaxis\":{\"automargin\":true,\"gridcolor\":\"white\",\"linecolor\":\"white\",\"ticks\":\"\",\"title\":{\"standoff\":15},\"zerolinecolor\":\"white\",\"zerolinewidth\":2}}},\"title\":{\"font\":{\"size\":20},\"text\":\"Adult Residents by Race/Ethnicity<br><sup>Richmond, CA</sup>\",\"x\":0.5}},                        {\"responsive\": true}                    ).then(function(){\n",
       "                            \n",
       "var gd = document.getElementById('47ee5b37-54ad-4d27-a5c5-2c1a3ae88d3a');\n",
       "var x = new MutationObserver(function (mutations, observer) {{\n",
       "        var display = window.getComputedStyle(gd).display;\n",
       "        if (!display || display === 'none') {{\n",
       "            console.log([gd, 'removed!']);\n",
       "            Plotly.purge(gd);\n",
       "            observer.disconnect();\n",
       "        }}\n",
       "}});\n",
       "\n",
       "// Listen for the removal of the full notebook cells\n",
       "var notebookContainer = gd.closest('#notebook-container');\n",
       "if (notebookContainer) {{\n",
       "    x.observe(notebookContainer, {childList: true});\n",
       "}}\n",
       "\n",
       "// Listen for the clearing of the current output cell\n",
       "var outputEl = gd.closest('.output');\n",
       "if (outputEl) {{\n",
       "    x.observe(outputEl, {childList: true});\n",
       "}}\n",
       "\n",
       "                        })                };                });            </script>        </div>"
      ]
     },
     "metadata": {},
     "output_type": "display_data"
    }
   ],
   "source": [
    "labels = richmond['lntitle'].cat.categories\n",
    "\n",
    "fig = make_subplots(\n",
    "    rows=2, cols=1, \n",
    "    specs=[[dict(type=\"pie\")]] * 2,\n",
    "    subplot_titles=[\"Allowed to Vote\", \"Disenfranchised\"]\n",
    ")\n",
    "\n",
    "\n",
    "fig.add_trace(\n",
    "    go.Pie(\n",
    "        values=richmond['cvap_est'],\n",
    "        labels=labels,\n",
    "        scalegroup='one',\n",
    "        sort=False,\n",
    "        hole=0.4,\n",
    "        direction='clockwise',\n",
    "        name=\"Allowed to Vote\",\n",
    "    ), \n",
    "    row=1, col=1,\n",
    ")\n",
    "\n",
    "fig.add_trace(\n",
    "    go.Pie(\n",
    "        values=richmond['dvap_est'],\n",
    "        labels=labels,\n",
    "        scalegroup='one',\n",
    "        sort=False,\n",
    "        hole=0.4,\n",
    "        direction='clockwise',\n",
    "        name=\"Disenfranchised\",\n",
    "    ), \n",
    "    row=2, col=1,\n",
    ")\n",
    "\n",
    "fig.update_traces(\n",
    "    marker=dict(\n",
    "        line=dict(color='#ffffff', width=2)\n",
    "    ),\n",
    "    texttemplate='<b>%{percent:.0%}</b>'\n",
    ")\n",
    "\n",
    "fig.update_layout(\n",
    "    title_font_size=20,\n",
    "    title_text='Adult Residents by Race/Ethnicity<br><sup>Richmond, CA</sup>',\n",
    "    title_x=0.5,\n",
    "    font_family='Raleway',\n",
    "    legend=dict(traceorder='normal'),\n",
    ")\n",
    "\n",
    "fig.update_annotations(font_size=18)\n",
    "\n",
    "for ann in fig['layout']['annotations']:\n",
    "    ann['y'] -= 0.05\n",
    "\n",
    "for pie in fig['data']:\n",
    "    pie['domain']['y'] = [0.0, 0.9]\n",
    "\n",
    "fig"
   ]
  }
 ],
 "metadata": {
  "kernelspec": {
   "display_name": "bamboolib",
   "language": "python",
   "name": "bamboolib"
  },
  "language_info": {
   "codemirror_mode": {
    "name": "ipython",
    "version": 3
   },
   "file_extension": ".py",
   "mimetype": "text/x-python",
   "name": "python",
   "nbconvert_exporter": "python",
   "pygments_lexer": "ipython3",
   "version": "3.9.6"
  }
 },
 "nbformat": 4,
 "nbformat_minor": 5
}
