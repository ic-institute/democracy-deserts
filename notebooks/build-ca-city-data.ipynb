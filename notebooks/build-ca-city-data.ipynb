{
 "cells": [
  {
   "cell_type": "code",
   "execution_count": 1,
   "id": "5644ded4",
   "metadata": {},
   "outputs": [],
   "source": [
    "import pandas as pd\n",
    "\n",
    "from ddeserts.annotate import add_all_stat_columns\n",
    "from ddeserts.annotate import add_geo_columns\n",
    "from ddeserts.annotate import with_columns_sorted\n",
    "from ddeserts.load import load_cvap_data\n",
    "from ddeserts.load import load_charter_cities"
   ]
  },
  {
   "cell_type": "code",
   "execution_count": 2,
   "id": "95e91abb",
   "metadata": {},
   "outputs": [
    {
     "data": {
      "text/plain": [
       "485"
      ]
     },
     "execution_count": 2,
     "metadata": {},
     "output_type": "execute_result"
    }
   ],
   "source": [
    "# load the data\n",
    "pre_filter = lambda line: ('California' in line and 'CDP' not in line)\n",
    "\n",
    "df = load_cvap_data('Place', pre_filter=pre_filter)\n",
    "len(df)"
   ]
  },
  {
   "cell_type": "code",
   "execution_count": 3,
   "id": "4db10be3",
   "metadata": {},
   "outputs": [
    {
     "data": {
      "text/plain": [
       "482"
      ]
     },
     "execution_count": 3,
     "metadata": {},
     "output_type": "execute_result"
    }
   ],
   "source": [
    "# add geo columns and post-filter\n",
    "add_geo_columns(df)\n",
    "df = df[(df['state'] == 'California') & df['geotype'].isin(['city', 'town'])]\n",
    "len(df)"
   ]
  },
  {
   "cell_type": "code",
   "execution_count": 4,
   "id": "b8a73242",
   "metadata": {},
   "outputs": [],
   "source": [
    "# add charter city data\n",
    "charter_cities = load_charter_cities()\n",
    "df['hascharter'] = df['name'].isin(charter_cities)"
   ]
  },
  {
   "cell_type": "code",
   "execution_count": null,
   "id": "c5f3a332",
   "metadata": {},
   "outputs": [],
   "source": [
    "# add stat columns and sort\n",
    "add_all_stat_columns(df)\n",
    "df = with_columns_sorted(df)\n",
    "df"
   ]
  },
  {
   "cell_type": "code",
   "execution_count": null,
   "id": "d8c6175c",
   "metadata": {},
   "outputs": [],
   "source": [
    "df.to_csv('output/ca-cities.csv')"
   ]
  }
 ],
 "metadata": {
  "kernelspec": {
   "display_name": "bamboolib",
   "language": "python",
   "name": "bamboolib"
  },
  "language_info": {
   "codemirror_mode": {
    "name": "ipython",
    "version": 3
   },
   "file_extension": ".py",
   "mimetype": "text/x-python",
   "name": "python",
   "nbconvert_exporter": "python",
   "pygments_lexer": "ipython3",
   "version": "3.9.6"
  }
 },
 "nbformat": 4,
 "nbformat_minor": 5
}
